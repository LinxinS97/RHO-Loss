{
 "cells": [
  {
   "cell_type": "code",
   "execution_count": null,
   "id": "223fbcee-c1be-4bf7-8a77-2aef9d343df6",
   "metadata": {},
   "outputs": [],
   "source": [
    "import matplotlib.pyplot as plt\n",
    "import seaborn as sns\n",
    "\n",
    "import numpy as np\n",
    "import pandas as pd\n",
    "\n",
    "import wandb\n",
    "\n",
    "import functools\n",
    "import pickle\n",
    "\n",
    "plt.rcParams['pdf.fonttype'] = 42\n",
    "plt.rcParams[\"font.family\"] = \"Times\"\n",
    "plt.rcParams[\"font.weight\"] = \"light\"\n",
    "\n",
    "%matplotlib inline\n",
    "\n",
    "import re"
   ]
  },
  {
   "cell_type": "code",
   "execution_count": null,
   "id": "33dcb8b3-429c-4a50-b71b-ea1999be8c78",
   "metadata": {},
   "outputs": [],
   "source": [
    "# establish and plot colorblind color pallete\n",
    "colors = sns.color_palette('colorblind')\n",
    "sns.set_palette(colors)\n",
    "sns.palplot(colors)"
   ]
  },
  {
   "cell_type": "code",
   "execution_count": null,
   "id": "2abeeb71-42e3-405e-98e6-fa84dbea1b0e",
   "metadata": {},
   "outputs": [],
   "source": [
    "all_speedups_dict = pickle.load(open(\"all_speedups_dict.pkl\", \"rb\"))\n",
    "\n",
    "def all_speedups_dict_key_to_dataset(key):\n",
    "    datasets = [\"CIFAR100\", \"CIFAR10\", \"CINIC10\"]\n",
    "    for d in datasets:\n",
    "        if d in key:\n",
    "            return d\n",
    "\n",
    "def all_speedups_dict_key_to_exp_type(key, exp_key):\n",
    "    exp_types = {\n",
    "        \"hypers\": \"Hyperparameter transfer\",\n",
    "        \"archs\": \"Architecture transfer\",\n",
    "        \"holdout_set\": \"Holdout set size\",\n",
    "        \"double_IrLoMo\": \"No holdout set\",\n",
    "        \"default\": \"Default\",\n",
    "        \"_small_CNN\": \"Small irreducible loss model\",\n",
    "    }\n",
    "    for k, v in exp_types.items():\n",
    "        if k in key:\n",
    "            if k != \"holdout_set\":\n",
    "                return v\n",
    "            else:\n",
    "                return f\"Holdout set {100*exp_key_to_label('Holdout set size', exp_key)/2:.1f}% of available data\"\n",
    "\n",
    "def exp_key_to_label(exp_type, exp_key):\n",
    "    if exp_type in [\"Hyperparameter transfer\", \"Architecture transfer\", \"Default\", \"Small irreducible loss model\", \"No holdout set\"]: \n",
    "        return \"\"\n",
    "    if exp_type == \"Holdout set size\":\n",
    "        return float(re.findall(\"\\d.\\d*\", exp_key)[0])\n",
    "    "
   ]
  },
  {
   "cell_type": "code",
   "execution_count": null,
   "id": "8ab91d14-0b67-4ac8-bb49-fb26716d01f7",
   "metadata": {},
   "outputs": [],
   "source": [
    "def exp_filter_out(exp_group_key, exp_key):\n",
    "    if exp_key in [\"small CNN, 0.75\", \"small CNN, 0.33\", \"small CNN, 1\", \"src.models.modules.resnet_cifar.ResNet18\"]:\n",
    "        return True\n",
    "    return False"
   ]
  },
  {
   "cell_type": "code",
   "execution_count": null,
   "id": "069600f3-0f02-4186-853e-1cc14a401bb5",
   "metadata": {},
   "outputs": [],
   "source": [
    "all_speedups_df_list = []\n",
    "\n",
    "for exp_group_key, exp_group_exps in all_speedups_dict.items():\n",
    "    dataset = all_speedups_dict_key_to_dataset(exp_group_key)\n",
    "    \n",
    "    for exp_key, exp_vals in exp_group_exps.items():\n",
    "        \n",
    "        for val in exp_vals:\n",
    "            if exp_filter_out(exp_group_key, exp_key):\n",
    "                continue\n",
    "            \n",
    "            exp_type = all_speedups_dict_key_to_exp_type(exp_group_key, exp_key)\n",
    "            exp_dict = {\n",
    "                \"Experiment Group\": exp_type,\n",
    "                \"Dataset\": dataset,\n",
    "                \"Speedup\": val,\n",
    "                \"Label\": exp_key_to_label(exp_type, exp_key)\n",
    "            }\n",
    "            all_speedups_df_list.append(exp_dict)\n",
    "\n",
    "all_speedups_df = pd.DataFrame(all_speedups_df_list)"
   ]
  },
  {
   "cell_type": "markdown",
   "id": "78d30c2b-6031-400e-91e6-39e657a640dd",
   "metadata": {},
   "source": [
    "# Easy Plot Version"
   ]
  },
  {
   "cell_type": "code",
   "execution_count": null,
   "id": "390256e7-252d-48d9-af2f-ffea04d85ece",
   "metadata": {},
   "outputs": [],
   "source": [
    "order = [\"Default\", \"Small irreducible loss model\", \"Holdout set 25.0% of available data\", \"Holdout set 12.5% of available data\", \n",
    "         \"No holdout set\", \"Architecture transfer\", \"Hyperparameter transfer\"]\n",
    "hue_order = [\"CIFAR10\", \"CIFAR100\", \"CINIC10\"]\n",
    "plt.figure(figsize=(5.75, 2), dpi=300)\n",
    "for i in range(0, len(order)+1, 2):\n",
    "    plt.fill_between([-1, 10], [i-0.5, i-0.5], [i+0.5, i+0.5], color=\"gainsboro\", alpha=0.3, linewidth=0)\n",
    "\n",
    "sns.stripplot(x=\"Speedup\", y=\"Experiment Group\", hue=\"Dataset\",\n",
    "              data=all_speedups_df, dodge=True, alpha=.6, zorder=1, order=order, hue_order=hue_order)\n",
    "plt.ylabel(None)\n",
    "plt.xlabel(\"RHOLS speedup over uniform training\", fontsize=8)\n",
    "plt.xticks(fontsize=8)\n",
    "plt.yticks(fontsize=8)\n",
    "plt.legend(fontsize=8, loc=\"upper right\", shadow=True, fancybox=True, bbox_to_anchor=(1.1, 1.1), title=\"Dataset\")\n",
    "plt.plot([1, 1], [-5, 10], 'k--', linewidth=0.5)\n",
    "plt.ylim([6.5, -0.5])\n",
    "plt.xlim([-0.1, 7])\n",
    "plt.xticks([0, 1, 3, 6], [\"0\", \"No speedup\", \"3x\", \"6x\"], fontsize=7)\n",
    "plt.tight_layout()\n",
    "plt.savefig(\"figure_outputs/figure5.pdf\", bbox_inches=\"tight\")"
   ]
  },
  {
   "cell_type": "code",
   "execution_count": null,
   "id": "71af829e-92b5-45b5-9b2e-5a86cd472e54",
   "metadata": {},
   "outputs": [],
   "source": []
  }
 ],
 "metadata": {
  "kernelspec": {
   "display_name": "Python 3 (ipykernel)",
   "language": "python",
   "name": "python3"
  },
  "language_info": {
   "codemirror_mode": {
    "name": "ipython",
    "version": 3
   },
   "file_extension": ".py",
   "mimetype": "text/x-python",
   "name": "python",
   "nbconvert_exporter": "python",
   "pygments_lexer": "ipython3",
   "version": "3.9.1"
  }
 },
 "nbformat": 4,
 "nbformat_minor": 5
}
