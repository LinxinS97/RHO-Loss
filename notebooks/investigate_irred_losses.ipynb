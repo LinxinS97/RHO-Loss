{
 "cells": [
  {
   "cell_type": "code",
   "execution_count": null,
   "id": "4e9a960c-3f30-4538-876c-16b4ed80c358",
   "metadata": {},
   "outputs": [],
   "source": [
    "import os, sys\n",
    "\n",
    "sys.path.append(\"../\") # add base goldiprox-hydra folder to the path, so can import things. \n",
    "\n",
    "import torch\n",
    "import numpy as np\n",
    "\n",
    "import matplotlib.pyplot as plt\n",
    "import seaborn as sns"
   ]
  },
  {
   "cell_type": "code",
   "execution_count": null,
   "id": "0115e7a1-a062-4b0e-95c9-5c7f00b45db2",
   "metadata": {},
   "outputs": [],
   "source": [
    "from src.datamodules.datamodules import CIFAR10DataModule, CIFAR10_100MergedDataModule\n",
    "from src.datamodules.datasets.sequence_datasets import indices_CIFAR10, indices_CIFAR10_100_merged"
   ]
  },
  {
   "cell_type": "code",
   "execution_count": null,
   "id": "3ee3c0c6-7f98-4f7e-9f2d-55ce22e6f85c",
   "metadata": {},
   "outputs": [],
   "source": [
    "datamodule = CIFAR10DataModule(batch_size=100, valset_fraction=0.5, data_dir=\"~/workspace/data\")"
   ]
  },
  {
   "cell_type": "code",
   "execution_count": null,
   "id": "198a57cc-2005-44a9-ad9a-24277f45b7e4",
   "metadata": {},
   "outputs": [],
   "source": [
    "print(f\"valset_fraction=0.5\")\n",
    "datamodule = CIFAR10DataModule(batch_size=100, valset_fraction=0.5, data_dir=\"~/workspace/data\")\n",
    "print(f\"Intersection of train and validation subset: {len(list(set(datamodule.train_subset) & set(datamodule.val_subset)))} datapoints\")\n",
    "print(f\"Size of train subset: {len(list(set(datamodule.train_subset)))} datapoints\")\n",
    "print(f\"Size of train subset: {len(list(set(datamodule.val_subset)))} datapoints\")"
   ]
  },
  {
   "cell_type": "code",
   "execution_count": null,
   "id": "1fd2a81b-fce5-4c68-bd42-b21813f5f0d7",
   "metadata": {},
   "outputs": [],
   "source": [
    "print(f\"valset_fraction=0.75\")\n",
    "datamodule = CIFAR10DataModule(batch_size=100, valset_fraction=0.75, data_dir=\"~/workspace/data\")\n",
    "print(f\"Intersection of train and validation subset: {len(list(set(datamodule.train_subset) & set(datamodule.val_subset)))} datapoints\")\n",
    "print(f\"Size of train subset: {len(list(set(datamodule.train_subset)))} datapoints\")\n",
    "print(f\"Size of train subset: {len(list(set(datamodule.val_subset)))} datapoints\")"
   ]
  },
  {
   "cell_type": "code",
   "execution_count": null,
   "id": "2f238d12-e778-4f0a-a8b2-54e247549719",
   "metadata": {},
   "outputs": [],
   "source": [
    "print(f\"valset_fraction=0.25\")\n",
    "datamodule = CIFAR10DataModule(batch_size=100, valset_fraction=0.25, data_dir=\"~/workspace/data\")\n",
    "print(f\"Intersection of train and validation subset: {len(list(set(datamodule.train_subset) & set(datamodule.val_subset)))} datapoints\")\n",
    "print(f\"Size of train subset: {len(list(set(datamodule.train_subset)))} datapoints\")\n",
    "print(f\"Size of train subset: {len(list(set(datamodule.val_subset)))} datapoints\")"
   ]
  },
  {
   "cell_type": "code",
   "execution_count": null,
   "id": "ce6ce901-8dfb-4f90-bfe2-77984013209a",
   "metadata": {},
   "outputs": [],
   "source": [
    "len(datamodule.train_subset)"
   ]
  },
  {
   "cell_type": "code",
   "execution_count": null,
   "id": "05532eca-8ec9-49c5-9bdc-132588ad5576",
   "metadata": {},
   "outputs": [],
   "source": [
    "len(datamodule.val_subset)"
   ]
  },
  {
   "cell_type": "code",
   "execution_count": null,
   "id": "26c05845-f26e-4a14-92ca-1efb8731f610",
   "metadata": {},
   "outputs": [],
   "source": [
    "datamodule.train_subset"
   ]
  },
  {
   "cell_type": "markdown",
   "id": "53dc86c7-cb4d-49a7-a4c2-05eb15e1cbae",
   "metadata": {},
   "source": [
    "# First, setup vision dataset so we can get full information about the dataset"
   ]
  },
  {
   "cell_type": "code",
   "execution_count": null,
   "id": "8cd80916-1573-4b43-bf86-9d029d73252c",
   "metadata": {},
   "outputs": [],
   "source": [
    "datamodule = CIFAR10_100MergedDataModule(batch_size=100)"
   ]
  },
  {
   "cell_type": "code",
   "execution_count": null,
   "id": "cc127253-e8fe-4c5f-9601-39a56678e281",
   "metadata": {},
   "outputs": [],
   "source": [
    "datamodule.setup()"
   ]
  },
  {
   "cell_type": "code",
   "execution_count": null,
   "id": "14bff1c4-fd8c-4e18-bb6e-e610451901b3",
   "metadata": {},
   "outputs": [],
   "source": [
    "datamodule = CIFAR10DataModule(batch_size=100)\n",
    "CIFAR10_vision_dataset = indices_CIFAR10(root=\"/Users/mrinank/workspace/data\", train=True, transform=datamodule.transform)"
   ]
  },
  {
   "cell_type": "code",
   "execution_count": null,
   "id": "906b671c-64dc-4af3-b80a-bee996bc848e",
   "metadata": {},
   "outputs": [],
   "source": [
    "def imshow(img, title=None):\n",
    "    img = img / 2 + 0.5     # unnormalize\n",
    "    npimg = img.numpy()\n",
    "    plt.imshow(np.transpose(npimg, (1, 2, 0)))\n",
    "    \n",
    "    if title is not None:\n",
    "        plt.title(title)"
   ]
  },
  {
   "cell_type": "code",
   "execution_count": null,
   "id": "af058b4a-d286-4cc5-a76f-444d79411835",
   "metadata": {},
   "outputs": [],
   "source": [
    "imshow(CIFAR10_vision_dataset.__getitem__(75)[1])"
   ]
  },
  {
   "cell_type": "markdown",
   "id": "d3afc7e4-ad1e-4f97-a8fe-6c641c98adce",
   "metadata": {},
   "source": [
    "# Load Irreducible Losses – note that these irreducible losses are from a pretrained model. "
   ]
  },
  {
   "cell_type": "code",
   "execution_count": null,
   "id": "14416a7e-4ddf-4df5-bbf5-7aed8bba6a31",
   "metadata": {},
   "outputs": [],
   "source": [
    "irred_losses_dict = torch.load(\"cifar10_irred_losses/irred_losses_and_checks.pt\")"
   ]
  },
  {
   "cell_type": "markdown",
   "id": "20b9d9ef-813b-4723-9ef7-fc4c97ce615d",
   "metadata": {},
   "source": [
    "# Check images are consistent"
   ]
  },
  {
   "cell_type": "code",
   "execution_count": null,
   "id": "d2dcea1b-80c7-4fd2-90fb-0a63ea389ff8",
   "metadata": {},
   "outputs": [],
   "source": [
    "plt.figure(figsize=(6, 3), dpi=300)\n",
    "plt.subplot(121)\n",
    "imshow(CIFAR10_vision_dataset.__getitem__(irred_losses_dict[\"idx_of_control_images\"][-1])[1])\n",
    "plt.subplot(122)\n",
    "imshow(irred_losses_dict[\"control_images\"][-1])"
   ]
  },
  {
   "cell_type": "markdown",
   "id": "bc05f034-4162-4a08-93c4-c70cc2512224",
   "metadata": {},
   "source": [
    "# Investigate distribution of irreducible losses"
   ]
  },
  {
   "cell_type": "code",
   "execution_count": null,
   "id": "7a0787c3-90b7-491e-bf64-c10d7c2fe7d1",
   "metadata": {},
   "outputs": [],
   "source": [
    "irred_losses_all = irred_losses_dict['irreducible_losses'].numpy()\n",
    "global_indices = np.arange(irred_losses_all.size)\n",
    "targets = irred_losses_dict[\"sorted_targets\"].numpy()\n",
    "targets_str = np.array([classes[i] for i in targets])\n",
    "\n",
    "valid_irred_loss_mask = irred_losses_all != 0\n",
    "\n",
    "irred_losses = irred_losses_all[valid_irred_loss_mask]\n",
    "irred_losses_global_idxs = global_indices[valid_irred_loss_mask]\n",
    "targets = targets[valid_irred_loss_mask]\n",
    "targets_str = targets_str[valid_irred_loss_mask]"
   ]
  },
  {
   "cell_type": "code",
   "execution_count": null,
   "id": "c246d5ef-b300-416d-82eb-98a4af4cff30",
   "metadata": {},
   "outputs": [],
   "source": [
    "plt.figure(figsize=(4, 3), dpi=300)\n",
    "sns.histplot(irred_losses)\n",
    "plt.scatter(irred_losses, -100*np.ones_like(irred_losses), s=3, color=\"tab:blue\", marker='d', alpha=0.3)\n",
    "plt.xscale(\"log\")"
   ]
  },
  {
   "cell_type": "code",
   "execution_count": null,
   "id": "cd360140-228e-4962-9495-f2804e77cdc5",
   "metadata": {},
   "outputs": [],
   "source": [
    "plt.figure(figsize=(8, 8), dpi=300)\n",
    "\n",
    "for p_i, idx in enumerate(np.argsort(-irred_losses)[:25]):\n",
    "    plt.subplot(5, 5, p_i+1)\n",
    "    global_index = irred_losses_global_idxs[idx] \n",
    "    target = targets_str[idx]\n",
    "    irred_loss = irred_losses[idx]\n",
    "    imshow(CIFAR10_vision_dataset.__getitem__(global_index)[1], f\"{target}\\n: Irred Loss: {irred_loss:.2f}\")\n",
    "    \n",
    "plt.suptitle(\"Points with highest irred loss\")\n",
    "plt.tight_layout()"
   ]
  },
  {
   "cell_type": "code",
   "execution_count": null,
   "id": "702e6641-3b69-43be-89a1-cdfcfab18ea4",
   "metadata": {},
   "outputs": [],
   "source": [
    "plt.figure(figsize=(8, 8), dpi=300)\n",
    "\n",
    "for p_i, idx in enumerate(np.argsort(irred_losses)[:25]):\n",
    "    plt.subplot(5, 5, p_i+1)\n",
    "    global_index = irred_losses_global_idxs[idx] \n",
    "    target = targets_str[idx]\n",
    "    irred_loss = irred_losses[idx]\n",
    "    imshow(CIFAR10_vision_dataset.__getitem__(global_index)[1], f\"{target}\\n: Irred Loss: {irred_loss:.2g}\")\n",
    "    \n",
    "plt.suptitle(\"Points with lowest irred loss\")\n",
    "plt.tight_layout()"
   ]
  },
  {
   "cell_type": "code",
   "execution_count": null,
   "id": "dc6564f7-1b60-490c-8a93-347c3d0d10e0",
   "metadata": {},
   "outputs": [],
   "source": [
    "plt.figure(figsize=(4, 5), dpi=300)\n",
    "sns.violinplot(x=np.log(irred_losses), y=targets_str, cut=0, inner=None)\n",
    "plt.title(\"Irreducible Losses by Class: All\")\n",
    "plt.xlabel(\"Log irreducible loss\")"
   ]
  },
  {
   "cell_type": "code",
   "execution_count": null,
   "id": "73fd6938-cd62-4650-89c1-0cb791456944",
   "metadata": {},
   "outputs": [],
   "source": [
    "def percentile_plot(percentile, irred_losses, targets_str):\n",
    "    q = np.percentile(irred_losses, percentile)\n",
    "    mask = irred_losses>q\n",
    "    \n",
    "    classes, counts = np.unique(targets_str[mask], return_counts=True)\n",
    "    plt.bar(classes, 100*counts/np.sum(counts))\n",
    "    plt.title(f\"{percentile*100:.0f}th Percentile\")\n",
    "    plt.ylabel(\"%\")\n",
    "    plt.xticks(rotation=\"-90\")"
   ]
  },
  {
   "cell_type": "code",
   "execution_count": null,
   "id": "2bdc3914-5915-422a-a7ff-b858193aca70",
   "metadata": {},
   "outputs": [],
   "source": [
    "classes, counts = np.unique(targets_str, return_counts=True)"
   ]
  },
  {
   "cell_type": "code",
   "execution_count": null,
   "id": "c6065b49-5eeb-4cc1-b4c1-1dc54a45fcaf",
   "metadata": {},
   "outputs": [],
   "source": [
    "percentiles = [0, 0.9, 0.95, 0.99]\n",
    "plt.figure(figsize=(8, 8), dpi=300)\n",
    "\n",
    "for p_i, p in enumerate(percentiles):\n",
    "    plt.subplot(2, 2, p_i+1)\n",
    "    percentile_plot(p, irred_losses, targets_str)\n",
    "\n",
    "plt.tight_layout()"
   ]
  },
  {
   "cell_type": "markdown",
   "id": "8ccc2d35-a096-4222-9d6b-522ced27eb59",
   "metadata": {},
   "source": [
    "# Load Irreducible Losses – note that these irreducible losses are from a model trained on the validation set. "
   ]
  },
  {
   "cell_type": "code",
   "execution_count": null,
   "id": "25a3fa1b-0c79-4ac7-909c-b2fd0fb22f15",
   "metadata": {},
   "outputs": [],
   "source": [
    "irred_losses_dict = torch.load(\"cifar10_irred_losses/irred_losses_and_checks_valtrain.pt\")"
   ]
  },
  {
   "cell_type": "markdown",
   "id": "d32f6394-f36b-46f4-8e55-ac1a6d9b437d",
   "metadata": {},
   "source": [
    "# Check images are consistent"
   ]
  },
  {
   "cell_type": "code",
   "execution_count": null,
   "id": "107b2f42-6be6-45c8-bf35-9c4e7ba606f9",
   "metadata": {},
   "outputs": [],
   "source": [
    "plt.figure(figsize=(6, 3), dpi=300)\n",
    "plt.subplot(121)\n",
    "imshow(CIFAR10_vision_dataset.__getitem__(irred_losses_dict[\"idx_of_control_images\"][-1])[1])\n",
    "plt.subplot(122)\n",
    "imshow(irred_losses_dict[\"control_images\"][-1])"
   ]
  },
  {
   "cell_type": "markdown",
   "id": "0021e472-442f-40ea-ac68-4449bc4a989a",
   "metadata": {},
   "source": [
    "# Investigate distribution of irreducible losses"
   ]
  },
  {
   "cell_type": "code",
   "execution_count": null,
   "id": "ddc7ad91-e02e-45b4-9083-cd8976deaace",
   "metadata": {},
   "outputs": [],
   "source": [
    "irred_losses_all = irred_losses_dict['irreducible_losses'].numpy()\n",
    "global_indices = np.arange(irred_losses_all.size)\n",
    "targets = irred_losses_dict[\"sorted_targets\"].numpy()\n",
    "targets_str = np.array([classes[i] for i in targets])\n",
    "\n",
    "valid_irred_loss_mask = irred_losses_all != 0\n",
    "\n",
    "irred_losses = irred_losses_all[valid_irred_loss_mask]\n",
    "irred_losses_global_idxs = global_indices[valid_irred_loss_mask]\n",
    "targets = targets[valid_irred_loss_mask]\n",
    "targets_str = targets_str[valid_irred_loss_mask]"
   ]
  },
  {
   "cell_type": "code",
   "execution_count": null,
   "id": "11dce65f-7a7c-4cb6-92eb-a3bb3d8c26d5",
   "metadata": {},
   "outputs": [],
   "source": [
    "plt.figure(figsize=(4, 3), dpi=300)\n",
    "sns.histplot(irred_losses)\n",
    "plt.scatter(irred_losses, -100*np.ones_like(irred_losses), s=3, color=\"tab:blue\", marker='d', alpha=0.3)\n",
    "plt.xscale(\"log\")"
   ]
  },
  {
   "cell_type": "code",
   "execution_count": null,
   "id": "b0708bf1-fa88-47e1-a277-0b479df47339",
   "metadata": {},
   "outputs": [],
   "source": [
    "plt.figure(figsize=(8, 8), dpi=300)\n",
    "\n",
    "for p_i, idx in enumerate(np.argsort(-irred_losses)[:25]):\n",
    "    plt.subplot(5, 5, p_i+1)\n",
    "    global_index = irred_losses_global_idxs[idx] \n",
    "    target = targets_str[idx]\n",
    "    irred_loss = irred_losses[idx]\n",
    "    imshow(CIFAR10_vision_dataset.__getitem__(global_index)[1], f\"{target}\\n: Irred Loss: {irred_loss:.2f}\")\n",
    "    \n",
    "plt.suptitle(\"Points with highest irred loss\")\n",
    "plt.tight_layout()"
   ]
  },
  {
   "cell_type": "code",
   "execution_count": null,
   "id": "ef1755f5-d620-4fad-bf0f-3fb91bb5b648",
   "metadata": {},
   "outputs": [],
   "source": [
    "plt.figure(figsize=(8, 8), dpi=300)\n",
    "\n",
    "for p_i, idx in enumerate(np.argsort(irred_losses)[:25]):\n",
    "    plt.subplot(5, 5, p_i+1)\n",
    "    global_index = irred_losses_global_idxs[idx] \n",
    "    target = targets_str[idx]\n",
    "    irred_loss = irred_losses[idx]\n",
    "    imshow(CIFAR10_vision_dataset.__getitem__(global_index)[1], f\"{target}\\n: Irred Loss: {irred_loss:.2g}\")\n",
    "    \n",
    "plt.suptitle(\"Points with lowest irred loss\")\n",
    "plt.tight_layout()"
   ]
  },
  {
   "cell_type": "code",
   "execution_count": null,
   "id": "217b8772-128b-4a95-ac3c-4daf4d6532bc",
   "metadata": {},
   "outputs": [],
   "source": [
    "plt.figure(figsize=(4, 5), dpi=300)\n",
    "sns.violinplot(x=np.log(irred_losses), y=targets_str, cut=0, inner=None)\n",
    "plt.title(\"Irreducible Losses by Class: All\")\n",
    "plt.xlabel(\"Log irreducible loss\")"
   ]
  },
  {
   "cell_type": "code",
   "execution_count": null,
   "id": "06e24142-a162-42d2-84e5-f35fe790102f",
   "metadata": {},
   "outputs": [],
   "source": [
    "def percentile_plot(percentile, irred_losses, targets_str):\n",
    "    q = np.percentile(irred_losses, percentile)\n",
    "    mask = irred_losses>q\n",
    "    \n",
    "    classes, counts = np.unique(targets_str[mask], return_counts=True)\n",
    "    plt.bar(classes, 100*counts/np.sum(counts))\n",
    "    plt.title(f\"{percentile*100:.0f}th Percentile\")\n",
    "    plt.ylabel(\"%\")\n",
    "    plt.xticks(rotation=\"-90\")"
   ]
  },
  {
   "cell_type": "code",
   "execution_count": null,
   "id": "ca2e2b7e-f070-407f-93fb-d411652db727",
   "metadata": {},
   "outputs": [],
   "source": [
    "classes, counts = np.unique(targets_str, return_counts=True)"
   ]
  },
  {
   "cell_type": "code",
   "execution_count": null,
   "id": "c257c8d0-107f-418e-87fc-043117371f35",
   "metadata": {},
   "outputs": [],
   "source": [
    "percentiles = [0, 0.9, 0.95, 0.99]\n",
    "plt.figure(figsize=(8, 8), dpi=300)\n",
    "\n",
    "for p_i, p in enumerate(percentiles):\n",
    "    plt.subplot(2, 2, p_i+1)\n",
    "    percentile_plot(p, irred_losses, targets_str)\n",
    "\n",
    "plt.tight_layout()"
   ]
  },
  {
   "cell_type": "markdown",
   "id": "f67b331e-baf2-4734-b8aa-1d046e0dac91",
   "metadata": {},
   "source": [
    "# Compare Irreducible Losses"
   ]
  },
  {
   "cell_type": "code",
   "execution_count": null,
   "id": "5340bb40-a789-436b-8510-2b55355d62d4",
   "metadata": {},
   "outputs": [],
   "source": [
    "def filter_irred_losses(irred_losses_dict):\n",
    "    irred_losses_all = irred_losses_dict['irreducible_losses'].numpy()\n",
    "    global_indices = np.arange(irred_losses_all.size)\n",
    "    targets = irred_losses_dict[\"sorted_targets\"].numpy()\n",
    "    targets_str = np.array([classes[i] for i in targets])\n",
    "\n",
    "    valid_irred_loss_mask = np.logical_and(irred_losses_all != 0, ~np.isnan(irred_losses_all))\n",
    "\n",
    "    irred_losses = irred_losses_all[valid_irred_loss_mask]\n",
    "    irred_losses_global_idxs = global_indices[valid_irred_loss_mask]\n",
    "    targets = targets[valid_irred_loss_mask]\n",
    "    targets_str = targets_str[valid_irred_loss_mask]\n",
    "    \n",
    "    return irred_losses, irred_losses_global_idxs, targets, targets_str\n",
    "\n",
    "irred_losses_dict_1 = torch.load(\"cifar10_irred_losses/irred_losses_and_checks.pt\")\n",
    "irred_losses_dict_2 = torch.load(\"cifar10_irred_losses/irred_losses_and_checks_valtrain.pt\")\n",
    "\n",
    "irred_losses_1, _, _, targets_str_1 = filter_irred_losses(irred_losses_dict_1)\n",
    "irred_losses_2, _, _, targets_str_2 = filter_irred_losses(irred_losses_dict_2)\n",
    "\n",
    "assert np.all(targets_str_1 == targets_str_2)"
   ]
  },
  {
   "cell_type": "code",
   "execution_count": null,
   "id": "746751cd-f2b1-47cf-bba5-07bfba1bcbb6",
   "metadata": {},
   "outputs": [],
   "source": [
    "np.corrcoef(irred_losses_1, irred_losses_2)"
   ]
  },
  {
   "cell_type": "code",
   "execution_count": null,
   "id": "b85a6005-9558-474c-9bbb-8e3506d5a976",
   "metadata": {},
   "outputs": [],
   "source": [
    "plt.figure(figsize=(6, 4), dpi=300)\n",
    "sns.scatterplot(irred_losses_1[:2500], irred_losses_2[:2500], hue=targets_str_1[:2500], s=8, alpha=0.25)\n",
    "plt.xlabel(\"Pretrained irreducible loss\")\n",
    "plt.ylabel(\"Valset irreducible loss\")\n",
    "plt.xscale(\"log\")\n",
    "plt.yscale(\"log\")\n",
    "plt.legend(bbox_to_anchor=(1.01, 0.99), loc=\"upper left\", title=\"classes\")\n",
    "plt.xlim([10**-4, 10**1])\n",
    "plt.ylim([10**-4, 10**1])\n",
    "plt.plot([10**-4, 10**1], [10**-4, 10**1], \"--k\", linewidth=1)\n",
    "plt.title(\"Correlation: {np.c}"
   ]
  },
  {
   "cell_type": "code",
   "execution_count": null,
   "id": "14347c38-9b7c-406d-a956-066342b15a33",
   "metadata": {},
   "outputs": [],
   "source": []
  }
 ],
 "metadata": {
  "kernelspec": {
   "display_name": "Python 3 (ipykernel)",
   "language": "python",
   "name": "python3"
  },
  "language_info": {
   "codemirror_mode": {
    "name": "ipython",
    "version": 3
   },
   "file_extension": ".py",
   "mimetype": "text/x-python",
   "name": "python",
   "nbconvert_exporter": "python",
   "pygments_lexer": "ipython3",
   "version": "3.9.1"
  }
 },
 "nbformat": 4,
 "nbformat_minor": 5
}
