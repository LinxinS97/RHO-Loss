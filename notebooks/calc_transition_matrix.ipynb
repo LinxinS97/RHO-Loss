{
 "cells": [
  {
   "cell_type": "code",
   "execution_count": 2,
   "metadata": {
    "collapsed": false
   },
   "outputs": [
    {
     "name": "stdout",
     "output_type": "stream",
     "text": [
      "/home/elpis_ubuntu/pretrain/RHO-Loss/notebooks\n"
     ]
    }
   ],
   "source": [
    "!pwd"
   ]
  },
  {
   "cell_type": "code",
   "execution_count": 3,
   "metadata": {
    "collapsed": true
   },
   "outputs": [],
   "source": [
    "from typing import List, Optional\n",
    "import os\n",
    "import sys\n",
    "sys.path.append('../')\n",
    "import numpy as np\n",
    "\n",
    "import hydra\n",
    "from omegaconf import DictConfig, OmegaConf\n",
    "from pytorch_lightning import (\n",
    "    Callback,\n",
    "    LightningDataModule,\n",
    "    LightningModule,\n",
    "    Trainer,\n",
    "    seed_everything,\n",
    ")\n",
    "import torch\n",
    "import torch.nn as nn\n",
    "from torch.nn import functional as F\n",
    "from torch.utils.data import DataLoader\n",
    "import torchvision.transforms as T\n",
    "from torchvision.datasets import CIFAR100, CIFAR10\n",
    "from tqdm import tqdm\n",
    "import pickle as pkl\n",
    "\n",
    "from src.utils import utils\n",
    "import copy\n",
    "from sklearn.linear_model import LogisticRegression\n",
    "\n",
    "\n",
    "log = utils.get_logger(__name__)\n",
    "\n",
    "import pdb"
   ]
  },
  {
   "cell_type": "code",
   "execution_count": 4,
   "metadata": {
    "collapsed": false
   },
   "outputs": [],
   "source": [
    "# where to download the datasets\n",
    "data_dir = \"../data/\"\n",
    "\n",
    "# where to upload the weights and biases logs\n",
    "my_project = \"tutorial_notebook\"\n",
    "my_entity = \"xyz\""
   ]
  },
  {
   "cell_type": "markdown",
   "metadata": {
    "collapsed": false
   },
   "source": [
    "# Calculate p(y_t | y_s)"
   ]
  },
  {
   "cell_type": "code",
   "execution_count": 4,
   "metadata": {
    "collapsed": false
   },
   "outputs": [
    {
     "data": {
      "text/html": [
       "<pre style=\"white-space:pre;overflow-x:auto;line-height:normal;font-family:Menlo,'DejaVu Sans Mono',consolas,'Courier New',monospace\"><span style=\"color: #7f7f7f; text-decoration-color: #7f7f7f\">CONFIG                                                                                       </span>\n",
       "<span style=\"color: #7f7f7f; text-decoration-color: #7f7f7f\">├── </span><span style=\"color: #7f7f7f; text-decoration-color: #7f7f7f\">model                                                                                    </span>\n",
       "<span style=\"color: #7f7f7f; text-decoration-color: #7f7f7f\">│   └── </span><span style=\"color: #fc92b8; text-decoration-color: #fc92b8; background-color: #272822\">_target_</span><span style=\"color: #fbfbf8; text-decoration-color: #fbfbf8; background-color: #272822\">: </span><span style=\"color: #7f7f7f; text-decoration-color: #7f7f7f; background-color: #272822\">src.models.OneModel.OneModel.load_from_checkpoint                          </span>\n",
       "<span style=\"color: #7f7f7f; text-decoration-color: #7f7f7f\">│       </span><span style=\"color: #fc92b8; text-decoration-color: #fc92b8; background-color: #272822\">checkpoint_path</span><span style=\"color: #fbfbf8; text-decoration-color: #fbfbf8; background-color: #272822\">: </span><span style=\"color: #7f7f7f; text-decoration-color: #7f7f7f; background-color: #272822\">/home/elpis_ubuntu/pretrain/RHO-Loss/logs/runs/2023-03-01/02-38-19/c</span>\n",
       "<span style=\"color: #7f7f7f; text-decoration-color: #7f7f7f\">│       </span><span style=\"color: #7f7f7f; text-decoration-color: #7f7f7f; background-color: #272822\">                                                                                     </span>\n",
       "<span style=\"color: #7f7f7f; text-decoration-color: #7f7f7f\">└── </span><span style=\"color: #7f7f7f; text-decoration-color: #7f7f7f\">seed                                                                                     </span>\n",
       "<span style=\"color: #7f7f7f; text-decoration-color: #7f7f7f\">    └── </span><span style=\"color: #7f7f7f; text-decoration-color: #7f7f7f; background-color: #272822\">12                                                                                   </span>\n",
       "</pre>\n"
      ],
      "text/plain": [
       "\u001B[2mCONFIG\u001B[0m\u001B[2m                                                                                       \u001B[0m\n",
       "\u001B[2m├── \u001B[0m\u001B[2mmodel\u001B[0m\u001B[2m                                                                                    \u001B[0m\n",
       "\u001B[2m│   \u001B[0m\u001B[2m└── \u001B[0m\u001B[2;38;2;249;38;114;48;2;39;40;34m_target_\u001B[0m\u001B[2;38;2;248;248;242;48;2;39;40;34m:\u001B[0m\u001B[2;38;2;248;248;242;48;2;39;40;34m \u001B[0m\u001B[2;48;2;39;40;34msrc.models.OneModel.OneModel.load_from_checkpoint\u001B[0m\u001B[2;48;2;39;40;34m                          \u001B[0m\n",
       "\u001B[2m│   \u001B[0m\u001B[2m    \u001B[0m\u001B[2;38;2;249;38;114;48;2;39;40;34mcheckpoint_path\u001B[0m\u001B[2;38;2;248;248;242;48;2;39;40;34m:\u001B[0m\u001B[2;38;2;248;248;242;48;2;39;40;34m \u001B[0m\u001B[2;48;2;39;40;34m/home/elpis_ubuntu/pretrain/RHO-Loss/logs/runs/2023-03-01/02-38-19/c\u001B[0m\n",
       "\u001B[2m│   \u001B[0m\u001B[2m    \u001B[0m\u001B[2;48;2;39;40;34m                                                                                     \u001B[0m\n",
       "\u001B[2m└── \u001B[0m\u001B[2mseed\u001B[0m\u001B[2m                                                                                     \u001B[0m\n",
       "\u001B[2m    \u001B[0m\u001B[2m└── \u001B[0m\u001B[2;48;2;39;40;34m12\u001B[0m\u001B[2;48;2;39;40;34m                                                                                   \u001B[0m\n"
      ]
     },
     "metadata": {},
     "output_type": "display_data"
    },
    {
     "data": {
      "text/html": [
       "<pre style=\"white-space:pre;overflow-x:auto;line-height:normal;font-family:Menlo,'DejaVu Sans Mono',consolas,'Courier New',monospace\"><span style=\"color: #7f7f7f; text-decoration-color: #7f7f7f\">CONFIG                                                                                       </span>\n",
       "<span style=\"color: #7f7f7f; text-decoration-color: #7f7f7f\">├── </span><span style=\"color: #7f7f7f; text-decoration-color: #7f7f7f\">model                                                                                    </span>\n",
       "<span style=\"color: #7f7f7f; text-decoration-color: #7f7f7f\">│   └── </span><span style=\"color: #fc92b8; text-decoration-color: #fc92b8; background-color: #272822\">_target_</span><span style=\"color: #fbfbf8; text-decoration-color: #fbfbf8; background-color: #272822\">: </span><span style=\"color: #7f7f7f; text-decoration-color: #7f7f7f; background-color: #272822\">src.models.OneModel.OneModel.load_from_checkpoint                          </span>\n",
       "<span style=\"color: #7f7f7f; text-decoration-color: #7f7f7f\">│       </span><span style=\"color: #fc92b8; text-decoration-color: #fc92b8; background-color: #272822\">checkpoint_path</span><span style=\"color: #fbfbf8; text-decoration-color: #fbfbf8; background-color: #272822\">: </span><span style=\"color: #7f7f7f; text-decoration-color: #7f7f7f; background-color: #272822\">/home/elpis_ubuntu/pretrain/RHO-Loss/logs/runs/2023-03-01/02-38-19/c</span>\n",
       "<span style=\"color: #7f7f7f; text-decoration-color: #7f7f7f\">│       </span><span style=\"color: #7f7f7f; text-decoration-color: #7f7f7f; background-color: #272822\">                                                                                     </span>\n",
       "<span style=\"color: #7f7f7f; text-decoration-color: #7f7f7f\">└── </span><span style=\"color: #7f7f7f; text-decoration-color: #7f7f7f\">seed                                                                                     </span>\n",
       "<span style=\"color: #7f7f7f; text-decoration-color: #7f7f7f\">    └── </span><span style=\"color: #7f7f7f; text-decoration-color: #7f7f7f; background-color: #272822\">12                                                                                   </span>\n",
       "</pre>\n"
      ],
      "text/plain": [
       "\u001B[2mCONFIG\u001B[0m\u001B[2m                                                                                       \u001B[0m\n",
       "\u001B[2m├── \u001B[0m\u001B[2mmodel\u001B[0m\u001B[2m                                                                                    \u001B[0m\n",
       "\u001B[2m│   \u001B[0m\u001B[2m└── \u001B[0m\u001B[2;38;2;249;38;114;48;2;39;40;34m_target_\u001B[0m\u001B[2;38;2;248;248;242;48;2;39;40;34m:\u001B[0m\u001B[2;38;2;248;248;242;48;2;39;40;34m \u001B[0m\u001B[2;48;2;39;40;34msrc.models.OneModel.OneModel.load_from_checkpoint\u001B[0m\u001B[2;48;2;39;40;34m                          \u001B[0m\n",
       "\u001B[2m│   \u001B[0m\u001B[2m    \u001B[0m\u001B[2;38;2;249;38;114;48;2;39;40;34mcheckpoint_path\u001B[0m\u001B[2;38;2;248;248;242;48;2;39;40;34m:\u001B[0m\u001B[2;38;2;248;248;242;48;2;39;40;34m \u001B[0m\u001B[2;48;2;39;40;34m/home/elpis_ubuntu/pretrain/RHO-Loss/logs/runs/2023-03-01/02-38-19/c\u001B[0m\n",
       "\u001B[2m│   \u001B[0m\u001B[2m    \u001B[0m\u001B[2;48;2;39;40;34m                                                                                     \u001B[0m\n",
       "\u001B[2m└── \u001B[0m\u001B[2mseed\u001B[0m\u001B[2m                                                                                     \u001B[0m\n",
       "\u001B[2m    \u001B[0m\u001B[2m└── \u001B[0m\u001B[2;48;2;39;40;34m12\u001B[0m\u001B[2;48;2;39;40;34m                                                                                   \u001B[0m\n"
      ]
     },
     "metadata": {},
     "output_type": "display_data"
    },
    {
     "name": "stderr",
     "output_type": "stream",
     "text": [
      "Global seed set to 12\n"
     ]
    },
    {
     "name": "stdout",
     "output_type": "stream",
     "text": [
      "cwd: /home/elpis_ubuntu/pretrain/RHO-Loss/notebooks/../src/datamodules\n",
      "Files already downloaded and verified\n"
     ]
    },
    {
     "name": "stderr",
     "output_type": "stream",
     "text": [
      "100%|██████████| 50000/50000 [01:52<00:00, 445.21it/s]\n"
     ]
    }
   ],
   "source": [
    "tm_list = []\n",
    "config = {\n",
    "    \"model\": {\n",
    "        \"_target_\": \"src.models.OneModel.OneModel.load_from_checkpoint\",\n",
    "        \"checkpoint_path\": f\"/home/elpis_ubuntu/pretrain/RHO-Loss/logs/runs/2023-03-01/02-38-19/checkpoints/epoch_040.ckpt\"\n",
    "    },\n",
    "    \"seed\": 12,\n",
    "    \"debug\": False,\n",
    "    \"ignore_warnings\": True,\n",
    "    \"base_outdir\": \"logs\",\n",
    "}\n",
    "config = OmegaConf.create(config)\n",
    "utils.print_config(\n",
    "    config,\n",
    "    fields=(\n",
    "        \"model\",\n",
    "        \"seed\",\n",
    "    ),\n",
    "    resolve=True,\n",
    ")\n",
    "if \"seed\" in config:\n",
    "    seed_everything(config.seed, workers=True)\n",
    "\n",
    "model: LightningModule = hydra.utils.instantiate(\n",
    "    config.model,\n",
    "    _convert_=\"partial\",\n",
    ")\n",
    "\n",
    "# Create the transition matrix from cifar10(source) to cifar100(target)\n",
    "test_transform = T.Compose([\n",
    "    T.ToTensor(),\n",
    "    T.Normalize([0.5, 0.5, 0.5], [0.5, 0.5, 0.5])\n",
    "    # T.Normalize((0.5071, 0.4867, 0.4408), (0.2675, 0.2565, 0.2761)) # CIFAR-100\n",
    "])\n",
    "cifar_train = CIFAR100('./data', train=True, download=True, transform=test_transform)\n",
    "train_loader = DataLoader(cifar_train, batch_size=1, num_workers=0)\n",
    "transition_matrix = np.zeros((10, 100))\n",
    "\n",
    "model.cuda()\n",
    "model.eval()\n",
    "with torch.no_grad():\n",
    "    for image, target in tqdm(train_loader):\n",
    "        image, target = image.cuda(), target.cuda()\n",
    "        pred = model(image)\n",
    "        pred_l = torch.argmax(pred, dim=1).detach().cpu().tolist()\n",
    "        # for t, p_s in enumerate(pred_l):\n",
    "        transition_matrix[pred_l[0]][target.detach().cpu().tolist()[0]] += 1\n",
    "\n",
    "tm = copy.copy(transition_matrix) / len(train_loader)\n",
    "p_y_s = tm.sum(axis=1)\n",
    "for i, p in enumerate(p_y_s):\n",
    "    tm[i] = tm[i] / p\n",
    "with open(f'./data/cifar10usage0.1_cifar100_transition.pkl', 'wb') as f:\n",
    "    pkl.dump(tm, f)"
   ]
  },
  {
   "cell_type": "markdown",
   "metadata": {
    "collapsed": false
   },
   "source": [
    "# Initialize Linear Probe on Source"
   ]
  },
  {
   "cell_type": "code",
   "execution_count": 5,
   "metadata": {
    "collapsed": false
   },
   "outputs": [
    {
     "data": {
      "text/html": [
       "<pre style=\"white-space:pre;overflow-x:auto;line-height:normal;font-family:Menlo,'DejaVu Sans Mono',consolas,'Courier New',monospace\"><span style=\"color: #7f7f7f; text-decoration-color: #7f7f7f\">CONFIG                                                                                       </span>\n",
       "<span style=\"color: #7f7f7f; text-decoration-color: #7f7f7f\">├── </span><span style=\"color: #7f7f7f; text-decoration-color: #7f7f7f\">model                                                                                    </span>\n",
       "<span style=\"color: #7f7f7f; text-decoration-color: #7f7f7f\">│   └── </span><span style=\"color: #fc92b8; text-decoration-color: #fc92b8; background-color: #272822\">_target_</span><span style=\"color: #fbfbf8; text-decoration-color: #fbfbf8; background-color: #272822\">: </span><span style=\"color: #7f7f7f; text-decoration-color: #7f7f7f; background-color: #272822\">src.models.OneModel.OneModel.load_from_checkpoint                          </span>\n",
       "<span style=\"color: #7f7f7f; text-decoration-color: #7f7f7f\">│       </span><span style=\"color: #fc92b8; text-decoration-color: #fc92b8; background-color: #272822\">checkpoint_path</span><span style=\"color: #fbfbf8; text-decoration-color: #fbfbf8; background-color: #272822\">: </span><span style=\"color: #7f7f7f; text-decoration-color: #7f7f7f; background-color: #272822\">/home/elpis_ubuntu/pretrain/RHO-Loss/logs/runs/2023-03-01/02-38-19/c</span>\n",
       "<span style=\"color: #7f7f7f; text-decoration-color: #7f7f7f\">│       </span><span style=\"color: #7f7f7f; text-decoration-color: #7f7f7f; background-color: #272822\">                                                                                     </span>\n",
       "<span style=\"color: #7f7f7f; text-decoration-color: #7f7f7f\">└── </span><span style=\"color: #7f7f7f; text-decoration-color: #7f7f7f\">seed                                                                                     </span>\n",
       "<span style=\"color: #7f7f7f; text-decoration-color: #7f7f7f\">    └── </span><span style=\"color: #7f7f7f; text-decoration-color: #7f7f7f; background-color: #272822\">12                                                                                   </span>\n",
       "</pre>\n"
      ],
      "text/plain": [
       "\u001B[2mCONFIG\u001B[0m\u001B[2m                                                                                       \u001B[0m\n",
       "\u001B[2m├── \u001B[0m\u001B[2mmodel\u001B[0m\u001B[2m                                                                                    \u001B[0m\n",
       "\u001B[2m│   \u001B[0m\u001B[2m└── \u001B[0m\u001B[2;38;2;249;38;114;48;2;39;40;34m_target_\u001B[0m\u001B[2;38;2;248;248;242;48;2;39;40;34m:\u001B[0m\u001B[2;38;2;248;248;242;48;2;39;40;34m \u001B[0m\u001B[2;48;2;39;40;34msrc.models.OneModel.OneModel.load_from_checkpoint\u001B[0m\u001B[2;48;2;39;40;34m                          \u001B[0m\n",
       "\u001B[2m│   \u001B[0m\u001B[2m    \u001B[0m\u001B[2;38;2;249;38;114;48;2;39;40;34mcheckpoint_path\u001B[0m\u001B[2;38;2;248;248;242;48;2;39;40;34m:\u001B[0m\u001B[2;38;2;248;248;242;48;2;39;40;34m \u001B[0m\u001B[2;48;2;39;40;34m/home/elpis_ubuntu/pretrain/RHO-Loss/logs/runs/2023-03-01/02-38-19/c\u001B[0m\n",
       "\u001B[2m│   \u001B[0m\u001B[2m    \u001B[0m\u001B[2;48;2;39;40;34m                                                                                     \u001B[0m\n",
       "\u001B[2m└── \u001B[0m\u001B[2mseed\u001B[0m\u001B[2m                                                                                     \u001B[0m\n",
       "\u001B[2m    \u001B[0m\u001B[2m└── \u001B[0m\u001B[2;48;2;39;40;34m12\u001B[0m\u001B[2;48;2;39;40;34m                                                                                   \u001B[0m\n"
      ]
     },
     "metadata": {},
     "output_type": "display_data"
    },
    {
     "data": {
      "text/html": [
       "<pre style=\"white-space:pre;overflow-x:auto;line-height:normal;font-family:Menlo,'DejaVu Sans Mono',consolas,'Courier New',monospace\"><span style=\"color: #7f7f7f; text-decoration-color: #7f7f7f\">CONFIG                                                                                       </span>\n",
       "<span style=\"color: #7f7f7f; text-decoration-color: #7f7f7f\">├── </span><span style=\"color: #7f7f7f; text-decoration-color: #7f7f7f\">model                                                                                    </span>\n",
       "<span style=\"color: #7f7f7f; text-decoration-color: #7f7f7f\">│   └── </span><span style=\"color: #fc92b8; text-decoration-color: #fc92b8; background-color: #272822\">_target_</span><span style=\"color: #fbfbf8; text-decoration-color: #fbfbf8; background-color: #272822\">: </span><span style=\"color: #7f7f7f; text-decoration-color: #7f7f7f; background-color: #272822\">src.models.OneModel.OneModel.load_from_checkpoint                          </span>\n",
       "<span style=\"color: #7f7f7f; text-decoration-color: #7f7f7f\">│       </span><span style=\"color: #fc92b8; text-decoration-color: #fc92b8; background-color: #272822\">checkpoint_path</span><span style=\"color: #fbfbf8; text-decoration-color: #fbfbf8; background-color: #272822\">: </span><span style=\"color: #7f7f7f; text-decoration-color: #7f7f7f; background-color: #272822\">/home/elpis_ubuntu/pretrain/RHO-Loss/logs/runs/2023-03-01/02-38-19/c</span>\n",
       "<span style=\"color: #7f7f7f; text-decoration-color: #7f7f7f\">│       </span><span style=\"color: #7f7f7f; text-decoration-color: #7f7f7f; background-color: #272822\">                                                                                     </span>\n",
       "<span style=\"color: #7f7f7f; text-decoration-color: #7f7f7f\">└── </span><span style=\"color: #7f7f7f; text-decoration-color: #7f7f7f\">seed                                                                                     </span>\n",
       "<span style=\"color: #7f7f7f; text-decoration-color: #7f7f7f\">    └── </span><span style=\"color: #7f7f7f; text-decoration-color: #7f7f7f; background-color: #272822\">12                                                                                   </span>\n",
       "</pre>\n"
      ],
      "text/plain": [
       "\u001B[2mCONFIG\u001B[0m\u001B[2m                                                                                       \u001B[0m\n",
       "\u001B[2m├── \u001B[0m\u001B[2mmodel\u001B[0m\u001B[2m                                                                                    \u001B[0m\n",
       "\u001B[2m│   \u001B[0m\u001B[2m└── \u001B[0m\u001B[2;38;2;249;38;114;48;2;39;40;34m_target_\u001B[0m\u001B[2;38;2;248;248;242;48;2;39;40;34m:\u001B[0m\u001B[2;38;2;248;248;242;48;2;39;40;34m \u001B[0m\u001B[2;48;2;39;40;34msrc.models.OneModel.OneModel.load_from_checkpoint\u001B[0m\u001B[2;48;2;39;40;34m                          \u001B[0m\n",
       "\u001B[2m│   \u001B[0m\u001B[2m    \u001B[0m\u001B[2;38;2;249;38;114;48;2;39;40;34mcheckpoint_path\u001B[0m\u001B[2;38;2;248;248;242;48;2;39;40;34m:\u001B[0m\u001B[2;38;2;248;248;242;48;2;39;40;34m \u001B[0m\u001B[2;48;2;39;40;34m/home/elpis_ubuntu/pretrain/RHO-Loss/logs/runs/2023-03-01/02-38-19/c\u001B[0m\n",
       "\u001B[2m│   \u001B[0m\u001B[2m    \u001B[0m\u001B[2;48;2;39;40;34m                                                                                     \u001B[0m\n",
       "\u001B[2m└── \u001B[0m\u001B[2mseed\u001B[0m\u001B[2m                                                                                     \u001B[0m\n",
       "\u001B[2m    \u001B[0m\u001B[2m└── \u001B[0m\u001B[2;48;2;39;40;34m12\u001B[0m\u001B[2;48;2;39;40;34m                                                                                   \u001B[0m\n"
      ]
     },
     "metadata": {},
     "output_type": "display_data"
    },
    {
     "name": "stderr",
     "output_type": "stream",
     "text": [
      "Global seed set to 12\n"
     ]
    },
    {
     "name": "stdout",
     "output_type": "stream",
     "text": [
      "cwd: /home/elpis_ubuntu/pretrain/RHO-Loss/notebooks/../src/datamodules\n",
      "Files already downloaded and verified\n"
     ]
    },
    {
     "name": "stderr",
     "output_type": "stream",
     "text": [
      "100%|██████████| 49/49 [00:06<00:00,  7.39it/s]\n"
     ]
    }
   ],
   "source": [
    "config = {\n",
    "    \"model\": {\n",
    "        \"_target_\": \"src.models.OneModel.OneModel.load_from_checkpoint\",\n",
    "        \"checkpoint_path\": f\"/home/elpis_ubuntu/pretrain/RHO-Loss/logs/runs/2023-03-01/02-38-19/checkpoints/epoch_040.ckpt\"\n",
    "    },\n",
    "    \"seed\": 12,\n",
    "    \"debug\": False,\n",
    "    \"ignore_warnings\": True,\n",
    "    \"base_outdir\": \"logs\",\n",
    "}\n",
    "config = OmegaConf.create(config)\n",
    "utils.print_config(\n",
    "    config,\n",
    "    fields=(\n",
    "        \"model\",\n",
    "        \"seed\",\n",
    "    ),\n",
    "    resolve=True,\n",
    ")\n",
    "if \"seed\" in config:\n",
    "    seed_everything(config.seed, workers=True)\n",
    "\n",
    "model: LightningModule = hydra.utils.instantiate(\n",
    "    config.model,\n",
    "    _convert_=\"partial\",\n",
    ")\n",
    "\n",
    "# Create the transition matrix from cifar10(source) to cifar100(target)\n",
    "test_transform = T.Compose([\n",
    "    T.ToTensor(),\n",
    "    T.Normalize([0.5, 0.5, 0.5], [0.5, 0.5, 0.5])\n",
    "    # T.Normalize((0.5071, 0.4867, 0.4408), (0.2675, 0.2565, 0.2761)) # CIFAR-100\n",
    "])\n",
    "cifar_train = CIFAR100('./data', train=True, download=True, transform=test_transform)\n",
    "train_loader = DataLoader(cifar_train, shuffle=False, batch_size=1024, num_workers=0)\n",
    "embedding_matrix = []\n",
    "model.model.fc = nn.Sequential()\n",
    "\n",
    "model.cuda()\n",
    "model.eval()\n",
    "with torch.no_grad():\n",
    "    for image, target in tqdm(train_loader):\n",
    "        image, target = image.cuda(), target.cuda()\n",
    "        embedding = model(image)\n",
    "        embedding_matrix.append(embedding.detach().cpu())\n",
    "\n",
    "embedding_matrix = torch.vstack(embedding_matrix)\n",
    "with open(f'./data/cifar10usage0.1_cifar100_embedding.pkl', 'wb') as f:\n",
    "    pkl.dump(embedding_matrix, f)\n",
    "\n",
    "clf = LogisticRegression(random_state=13, max_iter=10000).fit(embedding_matrix.numpy(), cifar_train.targets)\n",
    "with open(f'./data/cifar10usage0.1_cifar100_lp.pkl', 'wb') as f:\n",
    "    pkl.dump(clf, f)"
   ]
  },
  {
   "cell_type": "markdown",
   "metadata": {
    "collapsed": false
   },
   "source": [
    "# Linear probe from source to Target"
   ]
  },
  {
   "cell_type": "code",
   "execution_count": null,
   "metadata": {
    "collapsed": false
   },
   "outputs": [],
   "source": [
    "ckpt_list = [\n",
    "    '/home/elpis_ubuntu/pretrain/RHO-Loss/logs/runs/2023-02-11/16-41-17/checkpoints/epoch_099.ckpt', # ft epoch 1\n",
    "    '/home/elpis_ubuntu/pretrain/RHO-Loss/logs/runs/2023-02-11/17-00-56/checkpoints/epoch_099.ckpt', # ft epoch 10\n",
    "    '/home/elpis_ubuntu/pretrain/RHO-Loss/logs/runs/2023-02-11/17-20-40/checkpoints/epoch_099.ckpt', # ft epoch 20\n",
    "    '/home/elpis_ubuntu/pretrain/RHO-Loss/logs/runs/2023-02-11/17-39-50/checkpoints/epoch_099.ckpt', # ft epoch 30\n",
    "    '/home/elpis_ubuntu/pretrain/RHO-Loss/logs/runs/2023-02-11/17-58-57/checkpoints/epoch_099.ckpt', # ft epoch 40\n",
    "    '/home/elpis_ubuntu/pretrain/RHO-Loss/logs/runs/2023-02-11/18-17-50/checkpoints/epoch_099.ckpt', # ft epoch 50\n",
    "    '/home/elpis_ubuntu/pretrain/RHO-Loss/logs/runs/2023-02-11/18-36-44/checkpoints/epoch_099.ckpt', # ft epoch 60\n",
    "    '/home/elpis_ubuntu/pretrain/RHO-Loss/logs/runs/2023-02-11/18-55-57/checkpoints/epoch_099.ckpt', # ft epoch 70\n",
    "    '/home/elpis_ubuntu/pretrain/RHO-Loss/logs/runs/2023-02-11/19-14-59/checkpoints/epoch_099.ckpt', # ft epoch 80\n",
    "    '/home/elpis_ubuntu/pretrain/RHO-Loss/logs/runs/2023-02-11/19-33-56/checkpoints/epoch_099.ckpt', # ft epoch 90\n",
    "    '/home/elpis_ubuntu/pretrain/RHO-Loss/logs/runs/2023-02-11/19-53-07/checkpoints/epoch_099.ckpt', # ft epoch 100\n",
    "]\n",
    "\n",
    "for ckpt in ckpt_list:\n",
    "    config = {\n",
    "        \"model\": {\n",
    "            \"_target_\": \"src.models.OneModel.OneModel.load_from_checkpoint\",\n",
    "            \"checkpoint_path\": ckpt\n",
    "        },\n",
    "        \"seed\": 12,\n",
    "        \"debug\": False,\n",
    "        \"ignore_warnings\": True,\n",
    "        \"base_outdir\": \"logs\",\n",
    "    }\n",
    "    config = OmegaConf.create(config)\n",
    "    utils.print_config(\n",
    "        config,\n",
    "        fields=(\n",
    "            \"model\",\n",
    "            \"seed\",\n",
    "        ),\n",
    "        resolve=True,\n",
    "    )\n",
    "    if \"seed\" in config:\n",
    "        seed_everything(config.seed, workers=True)\n",
    "\n",
    "    model: LightningModule = hydra.utils.instantiate(\n",
    "        config.model,\n",
    "        _convert_=\"partial\",\n",
    "    )\n",
    "\n",
    "    # Create the transition matrix from cifar10(source) to cifar100(target)\n",
    "    test_transform = T.Compose([\n",
    "        T.ToTensor(),\n",
    "        T.Normalize([0.5, 0.5, 0.5], [0.5, 0.5, 0.5])\n",
    "        # T.Normalize((0.5071, 0.4867, 0.4408), (0.2675, 0.2565, 0.2761)) # CIFAR-100\n",
    "    ])\n",
    "    cifar_train = CIFAR100('./data', train=True, download=True, transform=test_transform)\n",
    "    train_loader = DataLoader(cifar_train, shuffle=False, batch_size=1024, num_workers=0)\n",
    "    embedding_matrix = []\n",
    "    model.model.fc = nn.Sequential()\n",
    "\n",
    "    model.cuda()\n",
    "    model.eval()\n",
    "    with torch.no_grad():\n",
    "        for image, target in tqdm(train_loader):\n",
    "            image, target = image.cuda(), target.cuda()\n",
    "            embedding = model(image)\n",
    "            embedding_matrix.append(embedding.detach().cpu())\n",
    "\n",
    "    embedding_matrix = torch.vstack(embedding_matrix)\n",
    "    clf = LogisticRegression(random_state=13, max_iter=10000).fit(embedding_matrix.numpy(), cifar_train.targets)\n",
    "    with open(f'./data/cifar10_cifar100_ft_lp.pkl', 'wb') as f:\n",
    "        pkl.dump(clf, f)"
   ]
  }
 ],
 "metadata": {
  "kernelspec": {
   "display_name": "pretrain",
   "language": "python",
   "name": "python3"
  },
  "language_info": {
   "codemirror_mode": {
    "name": "ipython",
    "version": 3
   },
   "file_extension": ".py",
   "mimetype": "text/x-python",
   "name": "python",
   "nbconvert_exporter": "python",
   "pygments_lexer": "ipython3",
   "version": "3.9.6"
  },
  "vscode": {
   "interpreter": {
    "hash": "4124360de2b567e2c2ee991e9bf40fa06383acc6ec4fcd4b1a64a4a8572896a3"
   }
  }
 },
 "nbformat": 4,
 "nbformat_minor": 0
}
